{
 "cells": [
  {
   "cell_type": "code",
   "execution_count": 1,
   "metadata": {},
   "outputs": [
    {
     "name": "stdout",
     "output_type": "stream",
     "text": [
      "<bound method Series.mean of 0        0.912784\n",
      "1        0.855737\n",
      "2        0.885487\n",
      "3             NaN\n",
      "4        0.768672\n",
      "           ...   \n",
      "30906    0.861406\n",
      "30907         NaN\n",
      "30908    0.845368\n",
      "30909    0.891419\n",
      "30910    0.942080\n",
      "Name: SNR_U, Length: 30911, dtype: float64>\n"
     ]
    }
   ],
   "source": [
    "from pkg_ir import *\n",
    "\n",
    "print(raw_cdfs['SNR_U'].mean)"
   ]
  }
 ],
 "metadata": {
  "kernelspec": {
   "display_name": "Python 3",
   "language": "python",
   "name": "python3"
  },
  "language_info": {
   "codemirror_mode": {
    "name": "ipython",
    "version": 3
   },
   "file_extension": ".py",
   "mimetype": "text/x-python",
   "name": "python",
   "nbconvert_exporter": "python",
   "pygments_lexer": "ipython3",
   "version": "3.9.9"
  },
  "orig_nbformat": 4
 },
 "nbformat": 4,
 "nbformat_minor": 2
}
