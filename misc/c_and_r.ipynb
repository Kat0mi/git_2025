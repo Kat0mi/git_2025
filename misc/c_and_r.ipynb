{
 "cells": [
  {
   "cell_type": "code",
   "execution_count": 9,
   "metadata": {},
   "outputs": [],
   "source": [
    "from purge_pkg import *\n",
    "\n",
    "col = 'Cigale_25'\n",
    "per = '25%'\n",
    "\n",
    "cdfs_agn = cdfs[col]; cos_agn = cos[col]; uds_agn = uds[col]"
   ]
  },
  {
   "cell_type": "code",
   "execution_count": 5,
   "metadata": {},
   "outputs": [],
   "source": [
    "# >> Lacy\n",
    "\n",
    "cdfs_lacy_sel = cdfs['Lacy']; cos_lacy_sel = cos['Lacy']; uds_lacy_sel = uds['Lacy']\n",
    "cdfs_lacy_agn_sel = np.where((cdfs[col] == 1) & (cdfs['Lacy'] == 1), 1, 0)\n",
    "cos_lacy_agn_sel = np.where((cos[col] == 1) & (cos['Lacy'] == 1), 1, 0)\n",
    "uds_lacy_agn_sel = np.where((uds[col] == 1) & (uds['Lacy'] == 1), 1, 0)\n",
    "\n",
    "# >> Donley\n",
    "\n",
    "#cdfs_donley_sel = cdfs['Donley']; cos_donley_sel = cos['Donley']; uds_donley_sel = uds['Donley']\n",
    "#cdfs_donley_agn_sel = np.where((cdfs[col] == 1) & (cdfs['Donley'] == 1), 1, 0)\n",
    "#cos_donley_agn_sel = np.where((cos[col] == 1) & (cos['Donley'] == 1), 1, 0)\n",
    "#uds_donley_agn_sel = np.where((uds[col] == 1) & (uds['Donley'] == 1), 1, 0)\n",
    "\n",
    "# >> KI\n",
    "\n",
    "cdfs_ki_sel = cdfs['KI']; cos_ki_sel = cos['KI']; uds_ki_sel = uds['KI']\n",
    "cdfs_ki_agn_sel = np.where((cdfs[col] == 1) & (cdfs['KI'] == 1), 1, 0)\n",
    "cos_ki_agn_sel = np.where((cos[col] == 1) & (cos['KI'] == 1), 1, 0)\n",
    "uds_ki_agn_sel = np.where((uds[col] == 1) & (uds['KI'] == 1), 1, 0)\n",
    "\n",
    "# >> KIM\n",
    "\n",
    "cdfs_kim_sel = cdfs['KIM']; cos_kim_sel = cos['KIM']; uds_kim_sel = uds['KIM']\n",
    "cdfs_kim_agn_sel = np.where((cdfs[col] == 1) & (cdfs['KIM'] == 1), 1, 0)\n",
    "cos_kim_agn_sel = np.where((cos[col] == 1) & (cos['KIM'] == 1), 1, 0)\n",
    "uds_kim_agn_sel = np.where((uds[col] == 1) & (uds['KIM'] == 1), 1, 0)"
   ]
  },
  {
   "cell_type": "code",
   "execution_count": 7,
   "metadata": {},
   "outputs": [
    {
     "name": "stdout",
     "output_type": "stream",
     "text": [
      "CDFS\n",
      "\n",
      "Lacy, C (CDFS, Bayes AGN frac. >= 25%): 76.89%\n",
      "Lacy, R (CDFS, Bayes AGN frac. >= 25%): 32.67%\n",
      "\n",
      "KI, C (CDFS, Bayes AGN frac. >= 25%): 10.22%\n",
      "KI, R (CDFS, Bayes AGN frac. >= 25%): 5.24%\n",
      "\n",
      "KIM, C (CDFS, Bayes AGN frac. >= 25%): 15.95%\n",
      "KIM, R (CDFS, Bayes AGN frac. >= 25%): 11.08%\n",
      "\n",
      "COSMOS\n",
      "\n",
      "Lacy, C (COS, Bayes AGN frac. >= 25%): 87.74%\n",
      "Lacy, R (COS, Bayes AGN frac. >= 25%): 32.46%\n",
      "\n",
      "KI, C (COS, Bayes AGN frac. >= 25%): 5.16%\n",
      "KI, R (COS, Bayes AGN frac. >= 25%): 2.08%\n",
      "\n",
      "KIM, C (COS, Bayes AGN frac. >= 25%): 9.68%\n",
      "KIM, R (COS, Bayes AGN frac. >= 25%): 5.03%\n",
      "\n",
      "UDS\n",
      "\n",
      "Lacy, C (UDS, Bayes AGN frac. >= 25%): 90.36%\n",
      "Lacy, R (UDS, Bayes AGN frac. >= 25%): 30.53%\n",
      "\n",
      "KI, C (UDS, Bayes AGN frac. >= 25%): 1.02%\n",
      "KI, R (UDS, Bayes AGN frac. >= 25%): 0.67%\n",
      "\n",
      "KIM, C (UDS, Bayes AGN frac. >= 25%): 10.15%\n",
      "KIM, R (UDS, Bayes AGN frac. >= 25%): 6.02%\n"
     ]
    }
   ],
   "source": [
    "# completeness calculations\n",
    "\n",
    "cdfs_lacy_agn_comp = (np.sum(cdfs_lacy_agn_sel) / np.sum(cdfs_agn)) * 100\n",
    "cos_lacy_agn_comp = (np.sum(cos_lacy_agn_sel) / np.sum(cos_agn)) * 100\n",
    "uds_lacy_agn_comp = (np.sum(uds_lacy_agn_sel) / np.sum(uds_agn)) * 100\n",
    "\n",
    "cdfs_ki_agn_comp = (np.sum(cdfs_ki_agn_sel) / np.sum(cdfs_agn)) * 100\n",
    "cos_ki_agn_comp = (np.sum(cos_ki_agn_sel) / np.sum(cos_agn)) * 100\n",
    "uds_ki_agn_comp = (np.sum(uds_ki_agn_sel) / np.sum(uds_agn)) * 100\n",
    "\n",
    "cdfs_kim_agn_comp = (np.sum(cdfs_kim_agn_sel) / np.sum(cdfs_agn)) * 100\n",
    "cos_kim_agn_comp = (np.sum(cos_kim_agn_sel) / np.sum(cos_agn)) * 100\n",
    "uds_kim_agn_comp = (np.sum(uds_kim_agn_sel) / np.sum(uds_agn)) * 100\n",
    "\n",
    "# reliability calculations\n",
    "\n",
    "cdfs_lacy_agn_rel = (np.sum(cdfs_lacy_agn_sel) / np.sum(cdfs_lacy_sel)) * 100\n",
    "cos_lacy_agn_rel = (np.sum(cos_lacy_agn_sel) / np.sum(cos_lacy_sel)) * 100\n",
    "uds_lacy_agn_rel = (np.sum(uds_lacy_agn_sel) / np.sum(uds_lacy_sel)) * 100\n",
    "\n",
    "cdfs_ki_agn_rel = (np.sum(cdfs_ki_agn_sel) / np.sum(cdfs_ki_sel)) * 100\n",
    "cos_ki_agn_rel = (np.sum(cos_ki_agn_sel) / np.sum(cos_ki_sel)) * 100\n",
    "uds_ki_agn_rel = (np.sum(uds_ki_agn_sel) / np.sum(uds_ki_sel)) * 100\n",
    "\n",
    "cdfs_kim_agn_rel = (np.sum(cdfs_kim_agn_sel) / np.sum(cdfs_kim_sel)) * 100\n",
    "cos_kim_agn_rel = (np.sum(cos_kim_agn_sel) / np.sum(cos_kim_sel)) * 100\n",
    "uds_kim_agn_rel = (np.sum(uds_kim_agn_sel) / np.sum(uds_kim_sel)) * 100\n",
    "\n",
    "# print results\n",
    "\n",
    "print(\"CDFS\")\n",
    "\n",
    "print(\"\")\n",
    "\n",
    "print(f\"Lacy, C (CDFS, Bayes AGN frac. >= {per}): {cdfs_lacy_agn_comp:.2f}%\")\n",
    "print(f\"Lacy, R (CDFS, Bayes AGN frac. >= {per}): {cdfs_lacy_agn_rel:.2f}%\")\n",
    "print(\"\")\n",
    "print(f\"KI, C (CDFS, Bayes AGN frac. >= {per}): {cdfs_ki_agn_comp:.2f}%\")\n",
    "print(f\"KI, R (CDFS, Bayes AGN frac. >= {per}): {cdfs_ki_agn_rel:.2f}%\")\n",
    "print(\"\")\n",
    "print(f\"KIM, C (CDFS, Bayes AGN frac. >= {per}): {cdfs_kim_agn_comp:.2f}%\")\n",
    "print(f\"KIM, R (CDFS, Bayes AGN frac. >= {per}): {cdfs_kim_agn_rel:.2f}%\")\n",
    "\n",
    "print(\"\")\n",
    "\n",
    "print(\"COSMOS\")\n",
    "\n",
    "print(\"\")\n",
    "\n",
    "print(f\"Lacy, C (COS, Bayes AGN frac. >= {per}): {cos_lacy_agn_comp:.2f}%\")\n",
    "print(f\"Lacy, R (COS, Bayes AGN frac. >= {per}): {cos_lacy_agn_rel:.2f}%\")\n",
    "print(\"\")\n",
    "print(f\"KI, C (COS, Bayes AGN frac. >= {per}): {cos_ki_agn_comp:.2f}%\")\n",
    "print(f\"KI, R (COS, Bayes AGN frac. >= {per}): {cos_ki_agn_rel:.2f}%\")\n",
    "print(\"\")\n",
    "print(f\"KIM, C (COS, Bayes AGN frac. >= {per}): {cos_kim_agn_comp:.2f}%\")\n",
    "print(f\"KIM, R (COS, Bayes AGN frac. >= {per}): {cos_kim_agn_rel:.2f}%\")\n",
    "\n",
    "print(\"\")\n",
    "\n",
    "print(\"UDS\")\n",
    "\n",
    "print(\"\")\n",
    "\n",
    "print(f\"Lacy, C (UDS, Bayes AGN frac. >= {per}): {uds_lacy_agn_comp:.2f}%\")\n",
    "print(f\"Lacy, R (UDS, Bayes AGN frac. >= {per}): {uds_lacy_agn_rel:.2f}%\")\n",
    "print(\"\")\n",
    "print(f\"KI, C (UDS, Bayes AGN frac. >= {per}): {uds_ki_agn_comp:.2f}%\")\n",
    "print(f\"KI, R (UDS, Bayes AGN frac. >= {per}): {uds_ki_agn_rel:.2f}%\")\n",
    "print(\"\")\n",
    "print(f\"KIM, C (UDS, Bayes AGN frac. >= {per}): {uds_kim_agn_comp:.2f}%\")\n",
    "print(f\"KIM, R (UDS, Bayes AGN frac. >= {per}): {uds_kim_agn_rel:.2f}%\")"
   ]
  },
  {
   "cell_type": "code",
   "execution_count": 5,
   "metadata": {},
   "outputs": [
    {
     "name": "stdout",
     "output_type": "stream",
     "text": [
      "Sum of Lacy AGN (CDFS): 1176\n",
      "Sum of Lacy AGN (COS): 429\n",
      "Sum of Lacy AGN (UDS): 603\n",
      "Sum of Cigale AGN (CDFS): 145\n",
      "Sum of Cigale AGN (COS): 45\n",
      "Sum of Cigale AGN (UDS): 73\n"
     ]
    }
   ],
   "source": [
    "# print sum of lacy agn\n",
    "\n",
    "print(f\"Sum of Lacy AGN (CDFS): {np.sum(cdfs_lacy_sel)}\")\n",
    "print(f\"Sum of Lacy AGN (COS): {np.sum(cos_lacy_sel)}\")\n",
    "print(f\"Sum of Lacy AGN (UDS): {np.sum(uds_lacy_sel)}\")\n",
    "\n",
    "# print sum of cigale agn\n",
    "\n",
    "print(f\"Sum of Cigale AGN (CDFS): {np.sum(cdfs_agn)}\")\n",
    "print(f\"Sum of Cigale AGN (COS): {np.sum(cos_agn)}\")\n",
    "print(f\"Sum of Cigale AGN (UDS): {np.sum(uds_agn)}\")"
   ]
  },
  {
   "cell_type": "code",
   "execution_count": 10,
   "metadata": {},
   "outputs": [
    {
     "name": "stdout",
     "output_type": "stream",
     "text": [
      "      id       z\n",
      "730  731  1.2409\n",
      "731  732  1.6268\n",
      "732  733  0.7580\n",
      "733  734  1.8732\n",
      "734  735  1.1602\n",
      "735  736  1.7068\n",
      "736  737  1.0397\n",
      "737  738  0.6559\n",
      "738  739  0.7184\n",
      "739  740  1.8742\n",
      "740  741  0.6173\n"
     ]
    }
   ],
   "source": [
    "# print all values from 'z'\n",
    "\n",
    "print(cdfs_raw.loc[730:740, ['id', 'z']])\n"
   ]
  }
 ],
 "metadata": {
  "kernelspec": {
   "display_name": "Python 3",
   "language": "python",
   "name": "python3"
  },
  "language_info": {
   "codemirror_mode": {
    "name": "ipython",
    "version": 3
   },
   "file_extension": ".py",
   "mimetype": "text/x-python",
   "name": "python",
   "nbconvert_exporter": "python",
   "pygments_lexer": "ipython3",
   "version": "3.10.1"
  },
  "orig_nbformat": 4
 },
 "nbformat": 4,
 "nbformat_minor": 2
}
